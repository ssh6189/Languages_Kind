{
 "cells": [
  {
   "cell_type": "code",
   "execution_count": 1,
   "metadata": {},
   "outputs": [
    {
     "name": "stdout",
     "output_type": "stream",
     "text": [
      "['de' 'en' 'es']\n",
      "정답률 =  1.0\n"
     ]
    }
   ],
   "source": [
    "import numpy as np\n",
    "from sklearn.naive_bayes import GaussianNB\n",
    "from sklearn.metrics import accuracy_score\n",
    "import glob\n",
    "\n",
    "#Unicode 코드 포인트로 출현 빈도 판정하기\n",
    "def count_codePoint(str):\n",
    "    #Unicode 코드 포인트를 저장할 배열 준비하기\n",
    "    counter = np.zeros(65535)\n",
    "    \n",
    "    for i in range(len(str)):\n",
    "        #각 문자를 Unicode 코드 포인트로 변환하기\n",
    "        code_point = ord(str[i])\n",
    "        \n",
    "        if (code_point > 65535):\n",
    "            continue\n",
    "            \n",
    "        #출현 횟수 세기\n",
    "        counter[code_point] = counter[code_point] + 1\n",
    "        \n",
    "    #각 요소를 문자 수로 나눠 정규화하기\n",
    "    counter = counter/len(str)\n",
    "    return counter\n",
    "\n",
    "#학습 전용데이터 준비하기\n",
    "index = 0\n",
    "x_train = []\n",
    "y_train = []\n",
    "\n",
    "for file in glob.glob('./train/*.txt'):\n",
    "    #언어 정보를 추출하고 레이블로 지정하기\n",
    "    y_train.append(file[8:10])\n",
    "    \n",
    "    #파일 내부의 문자열을 모두 추출한 뒤 빈도 배열로 변환한 뒤 입력 데이터로 사용하기\n",
    "    file_str = ''\n",
    "    \n",
    "    for line in open(file, 'r', encoding = 'UTF-8'):\n",
    "        file_str = file_str + line\n",
    "    x_train.append(count_codePoint(file_str))\n",
    "    \n",
    "#학습하기\n",
    "clf= GaussianNB()\n",
    "clf.fit(x_train, y_train)\n",
    "\n",
    "#평가 데이터 준비하기\n",
    "index = 0\n",
    "x_test = []\n",
    "y_test = []\n",
    "for file in glob.glob('./test/*.txt'):\n",
    "    #언어 정보를 추출하고 레이블로 지정하기\n",
    "    y_test.append(file[7:9])\n",
    "    \n",
    "    #파일 내부의 문자열을 모두추출한 후 빈도 배열로 변환한 뒤 입력 데이터로 사용하기\n",
    "    file_str = ''\n",
    "    for line in open(file, 'r', encoding = 'UTF-8'):\n",
    "        file_str = file_str + line\n",
    "        \n",
    "    x_test.append(count_codePoint(file_str))\n",
    "    \n",
    "#평가하기\n",
    "y_pred= clf.predict(x_test)\n",
    "print(y_pred)\n",
    "print(\"정답률 = \", accuracy_score(y_test, y_pred))"
   ]
  }
 ],
 "metadata": {
  "kernelspec": {
   "display_name": "Python 3",
   "language": "python",
   "name": "python3"
  },
  "language_info": {
   "codemirror_mode": {
    "name": "ipython",
    "version": 3
   },
   "file_extension": ".py",
   "mimetype": "text/x-python",
   "name": "python",
   "nbconvert_exporter": "python",
   "pygments_lexer": "ipython3",
   "version": "3.7.7"
  }
 },
 "nbformat": 4,
 "nbformat_minor": 4
}
