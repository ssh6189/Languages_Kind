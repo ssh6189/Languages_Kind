{
 "cells": [
  {
   "cell_type": "code",
   "execution_count": 1,
   "metadata": {},
   "outputs": [
    {
     "name": "stdout",
     "output_type": "stream",
     "text": [
      "['ja' 'ja' 'en']\n",
      "정답률 =  0.3333333333333333\n"
     ]
    }
   ],
   "source": [
    "import numpy as np\n",
    "from sklearn.naive_bayes import GaussianNB\n",
    "from sklearn.metrics import accuracy_score\n",
    "\n",
    "#Unicode 코드포인트로 출현 빈도 판정하기\n",
    "def count_codePoint(str):\n",
    "    #Unicode 코드 포인트를 저장할 배열 준비하기\n",
    "    counter = np.zeros(65535)\n",
    "    \n",
    "    for i in range(len(str)):\n",
    "        #각 문자를 Unicode 코드 포인트로 변한하기\n",
    "        code_point = ord(str[i])\n",
    "        if (code_point > 65535):\n",
    "            continue\n",
    "        #출현 횟수 세기\n",
    "        counter[code_point] = counter[code_point] + 1\n",
    "        \n",
    "    #각 요소를 문자수로 나누어 정규화하기\n",
    "    counter = counter/len(str)\n",
    "    return counter\n",
    "    \n",
    "#학습전용 데이터 준비하기\n",
    "ko_str = '이것은 한국어 문장입니다.'\n",
    "ja_str = 'これは日本語の文章です。'\n",
    "en_str = 'This is English Sentences.'\n",
    "\n",
    "x_train = [count_codePoint(ko_str), count_codePoint(ja_str), count_codePoint(en_str)]\n",
    "y_train = ['ko','ja','en']\n",
    "\n",
    "#학습하기\n",
    "clf = GaussianNB()\n",
    "clf.fit(x_train, y_train)\n",
    "\n",
    "#평가 전용 데이터 준비하기\n",
    "ko_test_str = '안녕하세요'\n",
    "ja_test_str = 'こんにちは'\n",
    "en_test_str = 'Hello'\n",
    "\n",
    "x_test = [count_codePoint(ko_test_str), count_codePoint(ja_test_str), count_codePoint(en_test_str)]\n",
    "y_test = ['en', 'ja', 'ko']\n",
    "\n",
    "#평가하기\n",
    "y_pred = clf.predict(x_test)\n",
    "\n",
    "print(y_pred)\n",
    "print(\"정답률 = \", accuracy_score(y_test, y_pred))"
   ]
  }
 ],
 "metadata": {
  "kernelspec": {
   "display_name": "Python 3",
   "language": "python",
   "name": "python3"
  },
  "language_info": {
   "codemirror_mode": {
    "name": "ipython",
    "version": 3
   },
   "file_extension": ".py",
   "mimetype": "text/x-python",
   "name": "python",
   "nbconvert_exporter": "python",
   "pygments_lexer": "ipython3",
   "version": "3.7.7"
  }
 },
 "nbformat": 4,
 "nbformat_minor": 4
}
